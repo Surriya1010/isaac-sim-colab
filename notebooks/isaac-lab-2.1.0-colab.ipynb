{
  "cells": [
    {
      "cell_type": "markdown",
      "metadata": {
        "id": "view-in-github",
        "colab_type": "text"
      },
      "source": [
        "<a href=\"https://colab.research.google.com/github/Surriya1010/isaac-sim-colab/blob/main/notebooks/isaac-lab-2.1.0-colab.ipynb\" target=\"_parent\"><img src=\"https://colab.research.google.com/assets/colab-badge.svg\" alt=\"Open In Colab\"/></a>"
      ]
    },
    {
      "cell_type": "markdown",
      "metadata": {
        "id": "6Ugtd9oDr8kj"
      },
      "source": [
        "# Isaac Sim on Google Colab\n",
        "\n",
        "Unofficial instructions for running headless [Isaac Sim](https://docs.isaacsim.omniverse.nvidia.com/latest/index.html) and [Isaac Lab](https://isaac-sim.github.io/IsaacLab/main/index.html) on Google Colab.\n",
        "\n",
        "This setup is for demo purposes only, using various hacks to run Isaac Sim on Colab. Serious development is not recommended, as Colab is not officially supported."
      ]
    },
    {
      "cell_type": "markdown",
      "metadata": {
        "id": "th5BqfNZr8kk"
      },
      "source": [
        "## 1. Install Isaac Sim and Isaac Lab\n",
        "\n",
        "**Make sure to first change to GPU runtime by `Runtime > Change runtime type` to `T4 GPU`.**\n",
        "\n",
        "> Please note that error messages indicating Isaac Sim was terminated due to segmentation faults or Python fatal errors can be ignored."
      ]
    },
    {
      "cell_type": "code",
      "execution_count": null,
      "metadata": {
        "colab": {
          "base_uri": "https://localhost:8080/"
        },
        "id": "_M8RPq1yr8kl",
        "outputId": "865718b2-8ebc-4a14-8cfb-8547e4b4a67e"
      },
      "outputs": [
        {
          "output_type": "stream",
          "name": "stdout",
          "text": [
            "--2025-05-21 11:59:00--  https://raw.githubusercontent.com/j3soon/isaac-sim-colab/main/scripts/install-isaac-sim-4.5.sh\n",
            "Resolving raw.githubusercontent.com (raw.githubusercontent.com)... 185.199.111.133, 185.199.110.133, 185.199.109.133, ...\n",
            "Connecting to raw.githubusercontent.com (raw.githubusercontent.com)|185.199.111.133|:443... connected.\n",
            "HTTP request sent, awaiting response... 200 OK\n",
            "Length: 4517 (4.4K) [text/plain]\n",
            "Saving to: ‘install-isaac-sim-4.5.sh’\n",
            "\n",
            "install-isaac-sim-4 100%[===================>]   4.41K  --.-KB/s    in 0s      \n",
            "\n",
            "2025-05-21 11:59:00 (70.3 MB/s) - ‘install-isaac-sim-4.5.sh’ saved [4517/4517]\n",
            "\n",
            "--2025-05-21 11:59:00--  https://raw.githubusercontent.com/j3soon/colab-python-version/main/scripts/py310.sh\n",
            "Resolving raw.githubusercontent.com (raw.githubusercontent.com)... 185.199.108.133, 185.199.109.133, 185.199.110.133, ...\n",
            "Connecting to raw.githubusercontent.com (raw.githubusercontent.com)|185.199.108.133|:443... connected.\n",
            "HTTP request sent, awaiting response... 200 OK\n",
            "Length: 545 [text/plain]\n",
            "Saving to: ‘py310.sh’\n",
            "\n",
            "py310.sh            100%[===================>]     545  --.-KB/s    in 0s      \n",
            "\n",
            "2025-05-21 11:59:01 (44.6 MB/s) - ‘py310.sh’ saved [545/545]\n",
            "\n",
            "--2025-05-21 11:59:01--  https://repo.anaconda.com/miniconda/Miniconda3-py310_25.1.1-2-Linux-x86_64.sh\n",
            "Resolving repo.anaconda.com (repo.anaconda.com)... 104.16.32.241, 104.16.191.158, 2606:4700::6810:bf9e, ...\n",
            "Connecting to repo.anaconda.com (repo.anaconda.com)|104.16.32.241|:443... connected.\n",
            "HTTP request sent, awaiting response... 200 OK\n",
            "Length: 144058181 (137M) [application/octet-stream]\n",
            "Saving to: ‘miniconda.sh’\n",
            "\n",
            "miniconda.sh        100%[===================>] 137.38M   280MB/s    in 0.5s    \n",
            "\n",
            "2025-05-21 11:59:01 (280 MB/s) - ‘miniconda.sh’ saved [144058181/144058181]\n",
            "\n",
            "PREFIX=/usr/local\n",
            "Unpacking payload ...\n",
            "\n",
            "Installing base environment...\n",
            "\n",
            "Preparing transaction: ...working... done\n",
            "Executing transaction: ...working... done\n",
            "installation finished.\n",
            "WARNING:\n",
            "    You currently have a PYTHONPATH environment variable set. This may cause\n",
            "    unexpected behavior when running the Python interpreter in Miniconda3.\n",
            "    For best results, please verify that your PYTHONPATH only points to\n",
            "    directories of packages that are compatible with the Python interpreter\n",
            "    in Miniconda3: /usr/local\n",
            "Channels:\n",
            " - conda-forge\n",
            " - defaults\n",
            "Platform: linux-64\n",
            "Collecting package metadata (repodata.json): ...working... "
          ]
        }
      ],
      "source": [
        "# Install Isaac Sim 4.5 and Isaac Lab 2.1.0. This process takes about 10 mins to complete.\n",
        "!wget -O install-isaac-sim-4.5.sh https://raw.githubusercontent.com/j3soon/isaac-sim-colab/main/scripts/install-isaac-sim-4.5.sh\n",
        "!time bash install-isaac-sim-4.5.sh\n",
        "!wget -O install-isaac-lab-2.1.0.sh https://raw.githubusercontent.com/j3soon/isaac-sim-colab/main/scripts/install-isaac-lab-2.1.0.sh\n",
        "!time bash install-isaac-lab-2.1.0.sh"
      ]
    },
    {
      "cell_type": "code",
      "execution_count": null,
      "metadata": {
        "id": "1Ig9Pnmzr8kl"
      },
      "outputs": [],
      "source": [
        "# Install common packages\n",
        "!pip install seaborn tbparse"
      ]
    },
    {
      "cell_type": "markdown",
      "metadata": {
        "id": "cfwFuSFHr8km"
      },
      "source": [
        "## 2. Train an Agent in the Cartpole Environment"
      ]
    },
    {
      "cell_type": "markdown",
      "metadata": {
        "id": "HKqi8xJgr8km"
      },
      "source": [
        "Begin the training below, and in the meantime, review the code here: [Cartpole Environment Code](https://github.com/isaac-sim/IsaacLab/blob/main/source/isaaclab_tasks/isaaclab_tasks/direct/cartpole/cartpole_env.py)."
      ]
    },
    {
      "cell_type": "code",
      "execution_count": null,
      "metadata": {
        "id": "_yfHWtMbr8km"
      },
      "outputs": [],
      "source": [
        "# Set environment variables\n",
        "# Ref: https://docs.isaacsim.omniverse.nvidia.com/latest/installation/install_python.html#running-isaac-sim\n",
        "import os\n",
        "os.environ[\"OMNI_KIT_ACCEPT_EULA\"] = \"YES\"\n",
        "\n",
        "# Train agent in Cartpole env\n",
        "# Ref: https://isaac-sim.github.io/IsaacLab/main/source/overview/reinforcement-learning/rl_existing_scripts.html\n",
        "!cd IsaacLab && time python scripts/reinforcement_learning/rl_games/train.py --task Isaac-Cartpole-v0 --headless"
      ]
    },
    {
      "cell_type": "code",
      "execution_count": null,
      "metadata": {
        "id": "4YNoIoYZr8kn",
        "colab": {
          "base_uri": "https://localhost:8080/"
        },
        "outputId": "61d4ac9b-7f7d-4177-84e9-bb115da48380"
      },
      "outputs": [
        {
          "metadata": {
            "tags": null
          },
          "name": "stdout",
          "output_type": "stream",
          "text": [
            "[INFO][AppLauncher]: Using device: cuda:0\n",
            "[INFO][AppLauncher]: Loading experience file: /content/IsaacLab/apps/isaaclab.python.headless.rendering.kit\n",
            "\u001b[1m\u001b[93m[Warning] [simulation_app.simulation_app] Modules: ['omni.kit_app'] were loaded before SimulationApp was started and might not be loaded correctly.\n",
            "\u001b[0m\u001b[1m\u001b[93m[Warning] [simulation_app.simulation_app] Please check to make sure no extra omniverse or pxr modules are imported before the call to SimulationApp(...)\n",
            "\u001b[0m\u001b[1m\u001b[93m[Warning] [simulation_app.simulation_app] fast shutdown not supported with jupyter notebooks\n",
            "\u001b[0mLoading user config located at: '/usr/local/lib/python3.10/site-packages/omni/data/Kit/Isaac-Sim/4.5/user.config.json'\n",
            "[Info] [carb] Logging to file: /usr/local/lib/python3.10/site-packages/omni/logs/Kit/Isaac-Sim/4.5/kit_20250521_122550.log\n",
            "\u001b[1m\u001b[93m2025-05-21 12:25:50 [0ms] [Warning] [omni.kit.app.plugin] No crash reporter present, dumps uploading isn't available.\n",
            "\u001b[0m\u001b[1m\u001b[93m2025-05-21 12:25:50 [63ms] [Warning] [omni.ext.plugin] [ext: rendering_modes] Extensions config 'extension.toml' doesn't exist '/content/IsaacLab/apps/rendering_modes' or '/content/IsaacLab/apps/rendering_modes/config'\n",
            "\u001b[0m\u001b[1m\u001b[93m2025-05-21 12:25:51 [422ms] [Warning] [omni.datastore] OmniHub is inaccessible\n",
            "\u001b[0m\u001b[1m\u001b[93m2025-05-21 12:25:51 [471ms] [Warning] [carb.windowing-glfw.plugin] GLFW initialization failed.\n",
            "\u001b[0m\u001b[1m\u001b[93m2025-05-21 12:25:51 [471ms] [Warning] [carb] Failed to startup plugin carb.windowing-glfw.plugin (interfaces: [carb::windowing::IGLContext v1.0],[carb::windowing::IWindowing v1.5]) (impl: carb.windowing-glfw.plugin)\n",
            "\u001b[0m\u001b[1m\u001b[93m2025-05-21 12:25:51 [491ms] [Warning] [omni.platforminfo.plugin] failed to open the default display.  Can't verify X Server version.\n",
            "\u001b[0m\n",
            "|---------------------------------------------------------------------------------------------|\n",
            "| Driver Version: 550.54.15     | Graphics API: Vulkan\n",
            "|=============================================================================================|\n",
            "| GPU | Name                             | Active | LDA | GPU Memory | Vendor-ID | LUID       |\n",
            "|     |                                  |        |     |            | Device-ID | UUID       |\n",
            "|     |                                  |        |     |            | Bus-ID    |            |\n",
            "|---------------------------------------------------------------------------------------------|\n",
            "| 0   | Tesla T4                         | Yes: 0 |     | 15606   MB | 10de      | 0          |\n",
            "|     |                                  |        |     |            | 1eb8      | 76783cd9.. |\n",
            "|     |                                  |        |     |            | 0         |            |\n",
            "|=============================================================================================|\n",
            "| OS: 22.04.4 LTS (Jammy Jellyfish) ubuntu, Version: 22.04.4, Kernel: 6.1.123+\n",
            "| Processor: Intel(R) Xeon(R) CPU @ 2.20GHz\n",
            "| Cores: 1 | Logical Cores: 2\n",
            "|---------------------------------------------------------------------------------------------|\n",
            "| Total Memory (MB): 12977 | Free Memory: 11662\n",
            "| Total Page/Swap (MB): 0 | Free Page/Swap: 0\n",
            "|---------------------------------------------------------------------------------------------|\n",
            "\u001b[1m\u001b[93m2025-05-21 12:25:52 [1,533ms] [Warning] [gpu.foundation.plugin] ECC is enabled on physical device 0\n",
            "\u001b[0m\u001b[1m\u001b[93m2025-05-21 12:25:55 [4,661ms] [Warning] [carb.windowing-glfw.plugin] GLFW initialization failed.\n",
            "\u001b[0m\u001b[1m\u001b[93m2025-05-21 12:25:55 [4,661ms] [Warning] [carb] Failed to startup plugin carb.windowing-glfw.plugin (interfaces: [carb::windowing::IGLContext v1.0],[carb::windowing::IWindowing v1.5]) (impl: carb.windowing-glfw.plugin)\n",
            "\u001b[0m\u001b[1m\u001b[93m2025-05-21 12:25:55 [4,696ms] [Warning] [carb.windowing-glfw.plugin] GLFW initialization failed.\n",
            "\u001b[0m\u001b[1m\u001b[93m2025-05-21 12:25:55 [4,696ms] [Warning] [carb] Failed to startup plugin carb.windowing-glfw.plugin (interfaces: [carb::windowing::IGLContext v1.0],[carb::windowing::IWindowing v1.5]) (impl: carb.windowing-glfw.plugin)\n",
            "\u001b[0m\u001b[1m\u001b[93m2025-05-21 12:25:55 [4,705ms] [Warning] [carb.windowing-glfw.plugin] GLFW initialization failed.\n",
            "\u001b[0m\u001b[1m\u001b[93m2025-05-21 12:25:55 [4,705ms] [Warning] [carb] Failed to startup plugin carb.windowing-glfw.plugin (interfaces: [carb::windowing::IGLContext v1.0],[carb::windowing::IWindowing v1.5]) (impl: carb.windowing-glfw.plugin)\n",
            "\u001b[0m\u001b[1m\u001b[93m2025-05-21 12:25:55 [4,800ms] [Warning] [carb.windowing-glfw.plugin] GLFW initialization failed.\n",
            "\u001b[0m\u001b[1m\u001b[93m2025-05-21 12:25:55 [4,800ms] [Warning] [carb] Failed to startup plugin carb.windowing-glfw.plugin (interfaces: [carb::windowing::IGLContext v1.0],[carb::windowing::IWindowing v1.5]) (impl: carb.windowing-glfw.plugin)\n",
            "\u001b[0m\u001b[1m\u001b[93m2025-05-21 12:25:55 [4,803ms] [Warning] [carb.windowing-glfw.plugin] GLFW initialization failed.\n",
            "\u001b[0m\u001b[1m\u001b[93m2025-05-21 12:25:55 [4,803ms] [Warning] [carb] Failed to startup plugin carb.windowing-glfw.plugin (interfaces: [carb::windowing::IGLContext v1.0],[carb::windowing::IWindowing v1.5]) (impl: carb.windowing-glfw.plugin)\n",
            "\u001b[0m\u001b[1m\u001b[93m2025-05-21 12:25:55 [4,808ms] [Warning] [carb.windowing-glfw.plugin] GLFW initialization failed.\n",
            "\u001b[0m\u001b[1m\u001b[93m2025-05-21 12:25:55 [4,808ms] [Warning] [carb] Failed to startup plugin carb.windowing-glfw.plugin (interfaces: [carb::windowing::IGLContext v1.0],[carb::windowing::IWindowing v1.5]) (impl: carb.windowing-glfw.plugin)\n",
            "\u001b[0m\u001b[1m\u001b[93m2025-05-21 12:25:56 [6,007ms] [Warning] [omni.isaac.dynamic_control] omni.isaac.dynamic_control is deprecated as of Isaac Sim 4.5. No action is needed from end-users.\n",
            "\u001b[0m\u001b[1m\u001b[93m2025-05-21 12:26:00 [9,726ms] [Warning] [omni.log] Source: omni.hydra was already registered.\n",
            "\u001b[0m\u001b[1m\u001b[93m2025-05-21 12:26:03 [13,303ms] [Warning] [omni.replicator.core.scripts.extension] No material configuration file, adding configuration to material settings directly.\n",
            "\u001b[0m\u001b[1m\u001b[93m2025-05-21 12:26:09 [18,414ms] [Warning] [omni.usd-abi.plugin] No setting was found for '/rtx-defaults/ambientOcclusion/enabled'\n",
            "\u001b[0m\u001b[1m\u001b[93m2025-05-21 12:26:09 [18,414ms] [Warning] [omni.usd-abi.plugin] No setting was found for '/rtx-defaults/directLighting/sampledLighting/enabled'\n",
            "\u001b[0m\u001b[1m\u001b[93m2025-05-21 12:26:09 [18,414ms] [Warning] [omni.usd-abi.plugin] No setting was found for '/rtx-defaults/indirectDiffuse/enabled'\n",
            "\u001b[0m\u001b[1m\u001b[93m2025-05-21 12:26:09 [18,414ms] [Warning] [omni.usd-abi.plugin] No setting was found for '/rtx-defaults/raytracing/cached/enabled'\n",
            "\u001b[0m\u001b[1m\u001b[93m2025-05-21 12:26:09 [18,414ms] [Warning] [omni.usd-abi.plugin] No setting was found for '/rtx-defaults/reflections/enabled'\n",
            "\u001b[0m\u001b[1m\u001b[93m2025-05-21 12:26:09 [18,415ms] [Warning] [omni.usd-abi.plugin] No setting was found for '/rtx-defaults/sceneDb/ambientLightIntensity'\n",
            "\u001b[0m\u001b[1m\u001b[93m2025-05-21 12:26:09 [18,415ms] [Warning] [omni.usd-abi.plugin] No setting was found for '/rtx-defaults/translucency/enabled'\n",
            "\u001b[0m\u001b[1m\u001b[93m2025-05-21 12:26:09 [18,415ms] [Warning] [omni.usd-abi.plugin] No setting was found for '/rtx-defaults/viewTile/limit'\n",
            "\u001b[0m\u001b[1m\u001b[93m2025-05-21 12:26:09 [19,183ms] [Warning] [rtx.neuraylib.plugin] [IRAY:RENDER]   1.1   IRAY   rend warn : CUDA device 0 (Tesla T4): ECC is enabled, this will reduce rendering performance (it is strongly recommended to disable ECC with iray)\n",
            "\u001b[0m\u001b[1m\u001b[93m2025-05-21 12:26:09 [19,212ms] [Warning] [rtx.scenedb.plugin] SceneDbContext : TLAS limit buffer size 2787356032\n",
            "\u001b[0m\u001b[1m\u001b[93m2025-05-21 12:26:09 [19,212ms] [Warning] [rtx.scenedb.plugin] SceneDbContext : TLAS limit : valid true, within: false\n",
            "\u001b[0m\u001b[1m\u001b[93m2025-05-21 12:26:10 [19,693ms] [Warning] [omni.usd-abi.plugin] No setting was found for '/rtx-defaults/directLighting/sampledLighting/samplesPerPixel'\n",
            "\u001b[0m\u001b[1m\u001b[93m2025-05-21 12:26:10 [19,693ms] [Warning] [omni.usd-abi.plugin] No setting was found for '/rtx-defaults/pathtracing/maxSamplesPerLaunch'\n",
            "\u001b[0m\u001b[1m\u001b[93m2025-05-21 12:26:10 [19,694ms] [Warning] [omni.usd-abi.plugin] No setting was found for '/rtx-defaults-transient/meshlights/forceDisable'\n",
            "\u001b[0m\u001b[1m\u001b[93m2025-05-21 12:26:10 [19,924ms] [Warning] [omni.usd-abi.plugin] No setting was found for '/rtx-defaults/post/dlss/execMode'\n",
            "\u001b[0m\u001b[1m\u001b[93m2025-05-21 12:26:15 [25,001ms] [Warning] [carb.tasking.plugin] carb.tasking is likely stuck. All threads are busy with same tasks for more than 1 seconds with waiting tasks. Starting an emergency helper thread.\n",
            "[INFO]: Parsing configuration from: isaaclab_tasks.manager_based.classic.cartpole.cartpole_env_cfg:CartpoleEnvCfg\n",
            "[INFO]: Parsing configuration from: /content/IsaacLab/source/isaaclab_tasks/isaaclab_tasks/manager_based/classic/cartpole/agents/rl_games_ppo_cfg.yaml\n",
            "[INFO] Loading experiment from directory: /content/IsaacLab/logs/rl_games/cartpole\n",
            "\u001b[0m\u001b[1m\u001b[93m2025-05-21 12:26:24 [34,268ms] [Warning] [isaaclab.envs.manager_based_env] Seed not set for the environment. The environment creation may not be deterministic.\n",
            "[INFO]: Base environment:\n",
            "\tEnvironment device    : cuda:0\n",
            "\tEnvironment seed      : None\n",
            "\tPhysics step-size     : 0.008333333333333333\n",
            "\tRendering step-size   : 0.016666666666666666\n",
            "\tEnvironment step-size : 0.016666666666666666\n",
            "[INFO]: Time taken for scene creation : 7.241351 seconds\n",
            "[INFO]: Scene manager:  <class InteractiveScene>\n",
            "\tNumber of environments: 4096\n",
            "\tEnvironment spacing   : 4.0\n",
            "\tSource prim name      : /World/envs/env_0\n",
            "\tGlobal prim paths     : []\n",
            "\tReplicate physics     : True\n",
            "[INFO]: Starting the simulation. This may take a few seconds. Please wait...\n",
            "\u001b[0m\u001b[1m\u001b[93m2025-05-21 12:26:34 [43,626ms] [Warning] [isaaclab.actuators.actuator_pd] The <ImplicitActuatorCfg> object has a value for 'effort_limit'. This parameter will be removed in the future. To set the effort limit, please use 'effort_limit_sim' instead.\n",
            "\u001b[0m\u001b[1m\u001b[93m2025-05-21 12:26:34 [43,626ms] [Warning] [isaaclab.actuators.actuator_pd] The <ImplicitActuatorCfg> object has a value for 'velocity_limit'. Previously, although this value was specified, it was not getting used by implicit actuators. Since this parameter affects the simulation behavior, we continue to not use it. This parameter will be removed in the future. To set the velocity limit, please use 'velocity_limit_sim' instead.\n",
            "\u001b[0m\u001b[1m\u001b[93m2025-05-21 12:26:34 [43,656ms] [Warning] [isaaclab.actuators.actuator_pd] The <ImplicitActuatorCfg> object has a value for 'effort_limit'. This parameter will be removed in the future. To set the effort limit, please use 'effort_limit_sim' instead.\n",
            "\u001b[0m\u001b[1m\u001b[93m2025-05-21 12:26:34 [43,656ms] [Warning] [isaaclab.actuators.actuator_pd] The <ImplicitActuatorCfg> object has a value for 'velocity_limit'. Previously, although this value was specified, it was not getting used by implicit actuators. Since this parameter affects the simulation behavior, we continue to not use it. This parameter will be removed in the future. To set the velocity limit, please use 'velocity_limit_sim' instead.\n",
            "\u001b[0m\u001b[1m\u001b[93m2025-05-21 12:26:45 [54,557ms] [Warning] [omni.hydra.scene_delegate.plugin] Calling getBypassRenderSkelMeshProcessing for prim /World/envs/env_0/Robot/slider/visuals.proto_mesh_0_id0 that has not been populated\n",
            "[INFO]: Time taken for simulation start : 13.607835 seconds\n",
            "[INFO] Command Manager:  <CommandManager> contains 0 active terms.\n",
            "+------------------------+\n",
            "|  Active Command Terms  |\n",
            "+--------+-------+-------+\n",
            "| Index  | Name  |  Type |\n",
            "+--------+-------+-------+\n",
            "+--------+-------+-------+\n",
            "\n",
            "[INFO] Event Manager:  <EventManager> contains 1 active terms.\n",
            "+-------------------------------------+\n",
            "| Active Event Terms in Mode: 'reset' |\n",
            "+---------+---------------------------+\n",
            "|  Index  | Name                      |\n",
            "+---------+---------------------------+\n",
            "|    0    | reset_cart_position       |\n",
            "|    1    | reset_pole_position       |\n",
            "+---------+---------------------------+\n",
            "\n",
            "[INFO] Recorder Manager:  <RecorderManager> contains 0 active terms.\n",
            "+---------------------+\n",
            "| Active Recorder Terms |\n",
            "+-----------+---------+\n",
            "|   Index   | Name    |\n",
            "+-----------+---------+\n",
            "+-----------+---------+\n",
            "\n",
            "[INFO] Action Manager:  <ActionManager> contains 1 active terms.\n",
            "+----------------------------------+\n",
            "|  Active Action Terms (shape: 1)  |\n",
            "+-------+--------------+-----------+\n",
            "| Index | Name         | Dimension |\n",
            "+-------+--------------+-----------+\n",
            "|   0   | joint_effort |         1 |\n",
            "+-------+--------------+-----------+\n",
            "\n",
            "[INFO] Observation Manager: <ObservationManager> contains 1 groups.\n",
            "+------------------------------------------------------+\n",
            "| Active Observation Terms in Group: 'policy' (shape: (4,)) |\n",
            "+------------+----------------------------+------------+\n",
            "|   Index    | Name                       |   Shape    |\n",
            "+------------+----------------------------+------------+\n",
            "|     0      | joint_pos_rel              |    (2,)    |\n",
            "|     1      | joint_vel_rel              |    (2,)    |\n",
            "+------------+----------------------------+------------+\n",
            "\n",
            "[INFO] Termination Manager:  <TerminationManager> contains 2 active terms.\n",
            "+---------------------------------------+\n",
            "|        Active Termination Terms       |\n",
            "+-------+--------------------+----------+\n",
            "| Index | Name               | Time Out |\n",
            "+-------+--------------------+----------+\n",
            "|   0   | time_out           |   True   |\n",
            "|   1   | cart_out_of_bounds |  False   |\n",
            "+-------+--------------------+----------+\n",
            "\n",
            "[INFO] Reward Manager:  <RewardManager> contains 5 active terms.\n",
            "+------------------------------+\n",
            "|     Active Reward Terms      |\n",
            "+-------+-------------+--------+\n",
            "| Index | Name        | Weight |\n",
            "+-------+-------------+--------+\n",
            "|   0   | alive       |    1.0 |\n",
            "|   1   | terminating |   -2.0 |\n",
            "|   2   | pole_pos    |   -1.0 |\n",
            "|   3   | cart_vel    |  -0.01 |\n",
            "|   4   | pole_vel    | -0.005 |\n",
            "+-------+-------------+--------+\n",
            "\n",
            "[INFO] Curriculum Manager:  <CurriculumManager> contains 0 active terms.\n",
            "+----------------------+\n",
            "| Active Curriculum Terms |\n",
            "+-----------+----------+\n",
            "|   Index   | Name     |\n",
            "+-----------+----------+\n",
            "+-----------+----------+\n",
            "\n",
            "[INFO]: Completed setting up the environment...\n",
            "[INFO] Recording videos during training.\n",
            "        video_folder: /content/IsaacLab/logs/rl_games/cartpole/2025-05-21_12-23-05/videos/play\n",
            "        step_trigger: lambda step: step == 0\n",
            "        video_length: 200\n",
            "        disable_logger: True\n",
            "[INFO]: Loading model checkpoint from: /content/IsaacLab/logs/rl_games/cartpole/2025-05-21_12-23-05/nn/cartpole.pth\n",
            "self.seed = 42\n",
            "[BasePlayer] Creating regular env:  rlgpu\n",
            "{'observation_space': Box(-5.0, 5.0, (4,), float32), 'action_space': Box(-1.0, 1.0, (1,), float32), 'agents': 1, 'value_size': 1}\n",
            "build mlp: 4\n",
            "=> loading checkpoint '/content/IsaacLab/logs/rl_games/cartpole/2025-05-21_12-23-05/nn/cartpole.pth'\n",
            "/usr/local/lib/python3.10/site-packages/rl_games/algos_torch/torch_ext.py:62: FutureWarning: You are using `torch.load` with `weights_only=False` (the current default value), which uses the default pickle module implicitly. It is possible to construct malicious pickle data which will execute arbitrary code during unpickling (See https://github.com/pytorch/pytorch/blob/main/SECURITY.md#untrusted-models for more details). In a future release, the default value for `weights_only` will be flipped to `True`. This limits the functions that could be executed during unpickling. Arbitrary objects will no longer be allowed to be loaded via this mode unless they are explicitly allowlisted by the user via `torch.serialization.add_safe_globals`. We recommend you start setting `weights_only=True` for any use case where you don't have full control of the loaded file. Please open an issue on GitHub for any issues related to this experimental feature.\n",
            "  return func(*args, **kwargs)\n",
            "\u001b[0m\u001b[1m\u001b[93m2025-05-21 12:26:47 [57,194ms] [Warning] [omni.syntheticdata.plugin] OgnSdPostRenderVarToHost : rendervar copy from texture directly to host buffer is counter-performant. Please use copy from texture to device buffer first.\n"
          ]
        }
      ],
      "source": [
        "# Set environment variables\n",
        "# Ref: https://docs.isaacsim.omniverse.nvidia.com/latest/installation/install_python.html#running-isaac-sim\n",
        "import os\n",
        "os.environ[\"OMNI_KIT_ACCEPT_EULA\"] = \"YES\"\n",
        "\n",
        "# Record agent in Cartpole env\n",
        "# Ref: https://isaac-sim.github.io/IsaacLab/main/source/overview/reinforcement-learning/rl_existing_scripts.html\n",
        "!cd IsaacLab && python scripts/reinforcement_learning/rl_games/play.py --task Isaac-Cartpole-v0 --headless --video --video_length 200\n",
        "\n",
        "# Need to click the `Stop` button twice after recording finished (wait for the video file), not sure why the script won't end automatically by itself."
      ]
    },
    {
      "cell_type": "code",
      "execution_count": null,
      "metadata": {
        "id": "fFfGFiUMr8kn"
      },
      "outputs": [],
      "source": [
        "import glob\n",
        "from IPython.display import Video\n",
        "\n",
        "pattern = \"/content/IsaacLab/logs/rl_games/cartpole/*/videos/play/rl-video-step-0.mp4\"\n",
        "files = glob.glob(pattern)\n",
        "\n",
        "# Show Cartpole recording\n",
        "Video(files[0], embed=True)"
      ]
    },
    {
      "cell_type": "markdown",
      "metadata": {
        "id": "jkyhpKUAr8kn"
      },
      "source": [
        "**Please refresh this page by pressing F5, and then execute the following cell without running the first one.**"
      ]
    },
    {
      "cell_type": "code",
      "execution_count": null,
      "metadata": {
        "id": "eMtxkoIwr8ko"
      },
      "outputs": [],
      "source": [
        "import sys\n",
        "print(\"User Current Version:-\", sys.version)"
      ]
    },
    {
      "cell_type": "code",
      "execution_count": null,
      "metadata": {
        "id": "Z6rPfJ_wr8ko"
      },
      "outputs": [],
      "source": [
        "%matplotlib inline\n",
        "import matplotlib.pyplot as plt\n",
        "import seaborn as sns\n",
        "\n",
        "from tbparse import SummaryReader\n",
        "reader = SummaryReader(\"/content/IsaacLab/logs/rl_games/cartpole\")\n",
        "df = reader.scalars\n",
        "\n",
        "fig, axes = plt.subplots(1, 3, figsize=(18, 5))\n",
        "sns.lineplot(ax=axes[0], data=df[df[\"tag\"] == \"rewards/step\"], x='step', y='value', hue='tag')\n",
        "axes[0].set_title('Reward vs. Steps')\n",
        "sns.lineplot(ax=axes[1], data=df[df[\"tag\"] == \"rewards/iter\"], x='step', y='value', hue='tag')\n",
        "axes[1].set_title('Reward vs. Iters')\n",
        "sns.lineplot(ax=axes[2], data=df[df[\"tag\"] == \"rewards/time\"], x='step', y='value', hue='tag')\n",
        "axes[2].set_title('Reward vs. Time')"
      ]
    },
    {
      "cell_type": "markdown",
      "metadata": {
        "id": "eljQ4xS8r8ko"
      },
      "source": [
        "## 3. Train an Agent in the Ant Environment"
      ]
    },
    {
      "cell_type": "markdown",
      "metadata": {
        "id": "PItnjfR3r8ko"
      },
      "source": [
        "Begin the training below, and in the meantime, review the code here: [Ant Environment Code](https://github.com/isaac-sim/IsaacLab/blob/main/source/isaaclab_tasks/isaaclab_tasks/direct/ant/ant_env.py) and [Locomotion Environment Code](https://github.com/isaac-sim/IsaacLab/blob/main/source/isaaclab_tasks/isaaclab_tasks/direct/locomotion/locomotion_env.py)."
      ]
    },
    {
      "cell_type": "code",
      "execution_count": null,
      "metadata": {
        "id": "NEvO4ufar8ko"
      },
      "outputs": [],
      "source": [
        "# Set environment variables\n",
        "# Ref: https://docs.isaacsim.omniverse.nvidia.com/latest/installation/install_python.html#running-isaac-sim\n",
        "import os\n",
        "os.environ[\"OMNI_KIT_ACCEPT_EULA\"] = \"YES\"\n",
        "\n",
        "# Train agent in Ant env\n",
        "# Ref: https://isaac-sim.github.io/IsaacLab/main/source/overview/reinforcement-learning/rl_existing_scripts.html\n",
        "!cd IsaacLab && time python scripts/reinforcement_learning/rl_games/train.py --task Isaac-Ant-v0 --headless"
      ]
    },
    {
      "cell_type": "code",
      "execution_count": null,
      "metadata": {
        "id": "jYr9BBHOr8kp"
      },
      "outputs": [],
      "source": [
        "# Set environment variables\n",
        "# Ref: https://docs.isaacsim.omniverse.nvidia.com/latest/installation/install_python.html#running-isaac-sim\n",
        "import os\n",
        "os.environ[\"OMNI_KIT_ACCEPT_EULA\"] = \"YES\"\n",
        "\n",
        "# Record agent in Ant env\n",
        "# Ref: https://isaac-sim.github.io/IsaacLab/main/source/overview/reinforcement-learning/rl_existing_scripts.html\n",
        "!cd IsaacLab && python scripts/reinforcement_learning/rl_games/play.py --task Isaac-Ant-v0 --headless --video --video_length 400\n",
        "\n",
        "# Need to click the `Stop` button twice after recording finished (wait for the video file), not sure why the script won't end automatically by itself."
      ]
    },
    {
      "cell_type": "code",
      "execution_count": null,
      "metadata": {
        "id": "vzVNow_Gr8kp"
      },
      "outputs": [],
      "source": [
        "import glob\n",
        "from IPython.display import Video\n",
        "\n",
        "pattern = \"/content/IsaacLab/logs/rl_games/ant/*/videos/play/rl-video-step-0.mp4\"\n",
        "files = glob.glob(pattern)\n",
        "\n",
        "# Show Ant recording\n",
        "Video(files[0], embed=True)"
      ]
    },
    {
      "cell_type": "code",
      "execution_count": null,
      "metadata": {
        "id": "nZDLNaYIr8kq"
      },
      "outputs": [],
      "source": [
        "%matplotlib inline\n",
        "import matplotlib.pyplot as plt\n",
        "import seaborn as sns\n",
        "\n",
        "from tbparse import SummaryReader\n",
        "reader = SummaryReader(\"/content/IsaacLab/logs/rl_games/ant\")\n",
        "df = reader.scalars\n",
        "\n",
        "fig, axes = plt.subplots(1, 3, figsize=(18, 5))\n",
        "sns.lineplot(ax=axes[0], data=df[df[\"tag\"] == \"rewards/step\"], x='step', y='value', hue='tag')\n",
        "axes[0].set_title('Reward vs. Steps')\n",
        "sns.lineplot(ax=axes[1], data=df[df[\"tag\"] == \"rewards/iter\"], x='step', y='value', hue='tag')\n",
        "axes[1].set_title('Reward vs. Iters')\n",
        "sns.lineplot(ax=axes[2], data=df[df[\"tag\"] == \"rewards/time\"], x='step', y='value', hue='tag')\n",
        "axes[2].set_title('Reward vs. Time')"
      ]
    },
    {
      "cell_type": "markdown",
      "metadata": {
        "id": "p3ULDlyYr8kq"
      },
      "source": [
        "## 4. Pretrained Checkpoints"
      ]
    },
    {
      "cell_type": "code",
      "execution_count": null,
      "metadata": {
        "id": "kO78WyV8r8kr"
      },
      "outputs": [],
      "source": [
        "# Set environment variables\n",
        "# Ref: https://docs.isaacsim.omniverse.nvidia.com/latest/installation/install_python.html#running-isaac-sim\n",
        "import os\n",
        "os.environ[\"OMNI_KIT_ACCEPT_EULA\"] = \"YES\"\n",
        "\n",
        "# Record pretrained agent\n",
        "# Ref: https://isaac-sim.github.io/IsaacLab/main/source/overview/reinforcement-learning/rl_existing_scripts.html\n",
        "!cd IsaacLab && python scripts/reinforcement_learning/rl_games/play.py --task Isaac-Open-Drawer-Franka-v0 --num_envs 32 --headless --video --video_length 600 --use_pretrained_checkpoint\n",
        "\n",
        "# Need to click the `Stop` button twice after recording finished (wait for the video file), not sure why the script won't end automatically by itself."
      ]
    },
    {
      "cell_type": "code",
      "execution_count": null,
      "metadata": {
        "id": "8g6tyztpr8kr"
      },
      "outputs": [],
      "source": [
        "import glob\n",
        "from IPython.display import Video\n",
        "\n",
        "pattern = \"/content/IsaacLab/.pretrained_checkpoints/rl_games/videos/play/rl-video-step-0.mp4\"\n",
        "files = glob.glob(pattern)\n",
        "\n",
        "# Show pretrained agent recording\n",
        "Video(files[0], embed=True)"
      ]
    },
    {
      "cell_type": "markdown",
      "metadata": {
        "id": "-4U-qRcAr8kr"
      },
      "source": [
        "## 5. More Environments"
      ]
    },
    {
      "cell_type": "markdown",
      "metadata": {
        "id": "iPiU8YWRr8ks"
      },
      "source": [
        "See [Isaac Lab Available Environments](https://isaac-sim.github.io/IsaacLab/main/source/overview/environments.html) for the full list of environments."
      ]
    },
    {
      "cell_type": "code",
      "execution_count": null,
      "metadata": {
        "id": "aDR5NCExr8ks"
      },
      "outputs": [],
      "source": [
        "# Set environment variables\n",
        "# Ref: https://docs.isaacsim.omniverse.nvidia.com/latest/installation/install_python.html#running-isaac-sim\n",
        "import os\n",
        "os.environ[\"OMNI_KIT_ACCEPT_EULA\"] = \"YES\"\n",
        "\n",
        "!cd IsaacLab && python scripts/environments/list_envs.py"
      ]
    },
    {
      "cell_type": "code",
      "execution_count": null,
      "metadata": {
        "id": "vN-q9R0Zr8ks"
      },
      "outputs": [],
      "source": []
    }
  ],
  "metadata": {
    "accelerator": "GPU",
    "colab": {
      "gpuType": "T4",
      "provenance": [],
      "include_colab_link": true
    },
    "kernelspec": {
      "display_name": "Python 3.10",
      "name": "py310"
    },
    "language_info": {
      "name": "python"
    }
  },
  "nbformat": 4,
  "nbformat_minor": 0
}